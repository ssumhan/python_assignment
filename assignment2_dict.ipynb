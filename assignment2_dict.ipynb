{
 "cells": [
  {
   "cell_type": "markdown",
   "metadata": {},
   "source": [
    "1. txt 파일에는 quiz1 quiz2 assignment midterm final name 의 순서로 5번의 성적결과와 이름으로 총 5명의 학생의 정보가 입력 되어있다.\n",
    "\n",
    "2. 각각의 성적 반영비율은 quiz1 10% / quiz2 10% / assignment 20% / midterm 30% / final 30% 로 한다.\n",
    "\n",
    "3. 총 계산된 학생의 성적이 95이상이면 A+ / 90이상 95미만이면 A0 / 85이상 90미만이면 B+ / 80이상 80미만이면 B+ /그 아래로는 F로 Grade를 매긴다고 한다.\n",
    "\n",
    "4. 각 학생이 받은 항목별로 받은 점수, 반영비율을 적용한 최종점수, Grade를 출력하라.\n",
    "\n",
    "5. 조건> 각 학생들의항목별 점수(ie,quiz1,quiz2 ..)를 list를 이용하여 담은 후에 Dictionary에 value로 list 각각을 저장하는 코드를 작성해야한다."
   ]
  },
  {
   "cell_type": "code",
   "execution_count": 2,
   "metadata": {},
   "outputs": [
    {
     "name": "stdout",
     "output_type": "stream",
     "text": [
      "NAME\t|\tQUIZ1\t|\tQUIZ2\t|\tASSIGNMENT\t|\tMIDTERM\t|\tFINAL\t|\tSCORE\t|\tGRADE\n",
      "----------------------------------------------------------------------------------------------------------------------------------\n"
     ]
    }
   ],
   "source": [
    "import codecs\n",
    "import numpy as np\n",
    "\n",
    "with codecs.open(\"C:\\\\test\\\\test2.txt\", encoding=\"utf-8_sig\") as score_file:\n",
    "    result = dict()\n",
    "    result[\"quiz1\"] = list()\n",
    "    result[\"quiz2\"] = list()\n",
    "    result[\"assignment\"] = list()\n",
    "    result[\"midterm\"] = list()\n",
    "    result[\"final\"] = list()\n",
    "    result[\"name\"] = list()\n",
    "    store_score = list()\n",
    "    final_score = list()\n",
    "    grade = list()\n",
    "    \n",
    "    while True:\n",
    "        data = score_file.readline()\n",
    "        \n",
    "        if not data: break\n",
    "        ###########################To Do#######################################\n",
    "        \n",
    "        \n",
    "            \n",
    "    print(\"NAME\\t|\\tQUIZ1\\t|\\tQUIZ2\\t|\\tASSIGNMENT\\t|\\tMIDTERM\\t|\\tFINAL\\t|\\tSCORE\\t|\\tGRADE\")\n",
    "    print(\"-\"*130)\n",
    "    #####################################To Do##################################"
   ]
  },
  {
   "cell_type": "code",
   "execution_count": null,
   "metadata": {},
   "outputs": [],
   "source": []
  }
 ],
 "metadata": {
  "kernelspec": {
   "display_name": "Python 3",
   "language": "python",
   "name": "python3"
  },
  "language_info": {
   "codemirror_mode": {
    "name": "ipython",
    "version": 3
   },
   "file_extension": ".py",
   "mimetype": "text/x-python",
   "name": "python",
   "nbconvert_exporter": "python",
   "pygments_lexer": "ipython3",
   "version": "3.7.3"
  }
 },
 "nbformat": 4,
 "nbformat_minor": 2
}
